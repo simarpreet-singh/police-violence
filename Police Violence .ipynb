{
 "cells": [
  {
   "cell_type": "code",
   "execution_count": 5,
   "metadata": {
    "hideCode": false,
    "hidePrompt": false
   },
   "outputs": [],
   "source": [
    "import pandas as pd\n",
    "import numpy as np\n",
    "from matplotlib import pyplot as plt\n",
    "import sklearn"
   ]
  },
  {
   "cell_type": "markdown",
   "metadata": {
    "hideCode": false,
    "hidePrompt": false
   },
   "source": [
    "## Cleaning the data"
   ]
  },
  {
   "cell_type": "code",
   "execution_count": 6,
   "metadata": {
    "hideCode": false,
    "hidePrompt": false
   },
   "outputs": [],
   "source": [
    "mm_hh_inc = pd.read_csv('./data/clean/med-hh-inc-clean.csv')\n",
    "hs_complete = pd.read_csv('./data/clean/hs-complete-clean.csv')\n",
    "percent_below_poverty = pd.read_csv('./data/clean/percent-below-poverty-clean.csv')\n",
    "race_by_city = pd.read_csv('./data/clean/race-by-city-clean.csv')"
   ]
  },
  {
   "cell_type": "code",
   "execution_count": 7,
   "metadata": {
    "hideCode": false,
    "hidePrompt": false
   },
   "outputs": [],
   "source": [
    "hs_complete['percent_completed_hs'] = hs_complete['percent_completed_hs'].astype(float)\n",
    "percent_below_poverty['poverty_rate'] = percent_below_poverty['poverty_rate'] .astype(float)\n",
    "race_by_city['share_white share_black share_native_american share_asian share_hispanic'.split()] = race_by_city['share_white share_black share_native_american share_asian share_hispanic'.split()].astype(float)"
   ]
  },
  {
   "cell_type": "markdown",
   "metadata": {
    "hideCode": false,
    "hidePrompt": false
   },
   "source": [
    "### Aggregated Demographics Data"
   ]
  },
  {
   "cell_type": "code",
   "execution_count": 8,
   "metadata": {
    "hideCode": false,
    "hidePrompt": false
   },
   "outputs": [],
   "source": [
    "demographics = pd.concat([mm_hh_inc, hs_complete['percent_completed_hs'], percent_below_poverty['poverty_rate'], race_by_city['share_white share_black share_native_american share_asian share_hispanic'.split()]], axis=1, sort=False)\n",
    "demographics.sort_values(by=['Geographic Area'], inplace=True)\n",
    "\n",
    "\n"
   ]
  },
  {
   "cell_type": "code",
   "execution_count": 9,
   "metadata": {
    "hideCode": false,
    "hidePrompt": false
   },
   "outputs": [
    {
     "data": {
      "text/html": [
       "<div>\n",
       "<style scoped>\n",
       "    .dataframe tbody tr th:only-of-type {\n",
       "        vertical-align: middle;\n",
       "    }\n",
       "\n",
       "    .dataframe tbody tr th {\n",
       "        vertical-align: top;\n",
       "    }\n",
       "\n",
       "    .dataframe thead th {\n",
       "        text-align: right;\n",
       "    }\n",
       "</style>\n",
       "<table border=\"1\" class=\"dataframe\">\n",
       "  <thead>\n",
       "    <tr style=\"text-align: right;\">\n",
       "      <th></th>\n",
       "      <th>Geographic Area</th>\n",
       "      <th>City</th>\n",
       "      <th>Median Income</th>\n",
       "      <th>percent_completed_hs</th>\n",
       "      <th>poverty_rate</th>\n",
       "      <th>share_white</th>\n",
       "      <th>share_black</th>\n",
       "      <th>share_native_american</th>\n",
       "      <th>share_asian</th>\n",
       "      <th>share_hispanic</th>\n",
       "    </tr>\n",
       "  </thead>\n",
       "  <tbody>\n",
       "    <tr>\n",
       "      <th>717</th>\n",
       "      <td>AK</td>\n",
       "      <td>Hooper Bay city</td>\n",
       "      <td>35938.0000</td>\n",
       "      <td>75.0</td>\n",
       "      <td>40.9</td>\n",
       "      <td>28.0</td>\n",
       "      <td>0.0</td>\n",
       "      <td>40.0</td>\n",
       "      <td>0.0</td>\n",
       "      <td>12.0</td>\n",
       "    </tr>\n",
       "    <tr>\n",
       "      <th>696</th>\n",
       "      <td>AK</td>\n",
       "      <td>Game Creek CDP</td>\n",
       "      <td>51335.9481</td>\n",
       "      <td>100.0</td>\n",
       "      <td>0.0</td>\n",
       "      <td>6.7</td>\n",
       "      <td>0.0</td>\n",
       "      <td>87.1</td>\n",
       "      <td>0.0</td>\n",
       "      <td>0.0</td>\n",
       "    </tr>\n",
       "    <tr>\n",
       "      <th>697</th>\n",
       "      <td>AK</td>\n",
       "      <td>Gateway CDP</td>\n",
       "      <td>92739.0000</td>\n",
       "      <td>96.1</td>\n",
       "      <td>7.8</td>\n",
       "      <td>23.5</td>\n",
       "      <td>0.0</td>\n",
       "      <td>76.5</td>\n",
       "      <td>0.0</td>\n",
       "      <td>4.2</td>\n",
       "    </tr>\n",
       "    <tr>\n",
       "      <th>698</th>\n",
       "      <td>AK</td>\n",
       "      <td>Glacier View CDP</td>\n",
       "      <td>43000.0000</td>\n",
       "      <td>90.2</td>\n",
       "      <td>9.2</td>\n",
       "      <td>91.4</td>\n",
       "      <td>0.0</td>\n",
       "      <td>2.7</td>\n",
       "      <td>1.1</td>\n",
       "      <td>1.6</td>\n",
       "    </tr>\n",
       "    <tr>\n",
       "      <th>699</th>\n",
       "      <td>AK</td>\n",
       "      <td>Glennallen CDP</td>\n",
       "      <td>51335.9481</td>\n",
       "      <td>94.4</td>\n",
       "      <td>0.0</td>\n",
       "      <td>81.1</td>\n",
       "      <td>0.6</td>\n",
       "      <td>11.2</td>\n",
       "      <td>0.5</td>\n",
       "      <td>1.7</td>\n",
       "    </tr>\n",
       "  </tbody>\n",
       "</table>\n",
       "</div>"
      ],
      "text/plain": [
       "    Geographic Area              City  Median Income  percent_completed_hs  \\\n",
       "717              AK   Hooper Bay city     35938.0000                  75.0   \n",
       "696              AK    Game Creek CDP     51335.9481                 100.0   \n",
       "697              AK       Gateway CDP     92739.0000                  96.1   \n",
       "698              AK  Glacier View CDP     43000.0000                  90.2   \n",
       "699              AK    Glennallen CDP     51335.9481                  94.4   \n",
       "\n",
       "     poverty_rate  share_white  share_black  share_native_american  \\\n",
       "717          40.9         28.0          0.0                   40.0   \n",
       "696           0.0          6.7          0.0                   87.1   \n",
       "697           7.8         23.5          0.0                   76.5   \n",
       "698           9.2         91.4          0.0                    2.7   \n",
       "699           0.0         81.1          0.6                   11.2   \n",
       "\n",
       "     share_asian  share_hispanic  \n",
       "717          0.0            12.0  \n",
       "696          0.0             0.0  \n",
       "697          0.0             4.2  \n",
       "698          1.1             1.6  \n",
       "699          0.5             1.7  "
      ]
     },
     "execution_count": 9,
     "metadata": {},
     "output_type": "execute_result"
    }
   ],
   "source": [
    "# demographics['Median Income'].mean()\n",
    "demographics['Median Income'].fillna(demographics['Median Income'].mean(),inplace=True)\n",
    "demographics['percent_completed_hs'].fillna(demographics['percent_completed_hs'].mean(),inplace=True)\n",
    "demographics['poverty_rate'].fillna(demographics['poverty_rate'].mean(),inplace=True)\n",
    "demographics['share_white'].fillna(demographics['share_white'].mean(),inplace=True)\n",
    "demographics['share_black'].fillna(demographics['share_black'].mean(),inplace=True)\n",
    "demographics['share_native_american'].fillna(demographics['share_native_american'].mean(),inplace=True)\n",
    "demographics['share_asian'].fillna(demographics['share_asian'].mean(),inplace=True)\n",
    "demographics['share_hispanic'].fillna(demographics['share_hispanic'].mean(),inplace=True)\n",
    "demographics.head()"
   ]
  },
  {
   "cell_type": "markdown",
   "metadata": {},
   "source": [
    "# Census Data"
   ]
  },
  {
   "cell_type": "code",
   "execution_count": 11,
   "metadata": {},
   "outputs": [],
   "source": [
    "census_state_race = pd.read_csv('./data/race-by-state-census.csv')\n",
    "# data from https://factfinder.census.gov/faces/tableservices/jsf/pages/productview.xhtml?src=CF\n",
    "#cleaned "
   ]
  },
  {
   "cell_type": "code",
   "execution_count": 12,
   "metadata": {},
   "outputs": [
    {
     "data": {
      "text/html": [
       "<div>\n",
       "<style scoped>\n",
       "    .dataframe tbody tr th:only-of-type {\n",
       "        vertical-align: middle;\n",
       "    }\n",
       "\n",
       "    .dataframe tbody tr th {\n",
       "        vertical-align: top;\n",
       "    }\n",
       "\n",
       "    .dataframe thead th {\n",
       "        text-align: right;\n",
       "    }\n",
       "</style>\n",
       "<table border=\"1\" class=\"dataframe\">\n",
       "  <thead>\n",
       "    <tr style=\"text-align: right;\">\n",
       "      <th></th>\n",
       "      <th>STATE</th>\n",
       "      <th>POP</th>\n",
       "      <th>W</th>\n",
       "      <th>B</th>\n",
       "      <th>N</th>\n",
       "      <th>A</th>\n",
       "      <th>O</th>\n",
       "      <th>H</th>\n",
       "    </tr>\n",
       "  </thead>\n",
       "  <tbody>\n",
       "    <tr>\n",
       "      <th>0</th>\n",
       "      <td>AL</td>\n",
       "      <td>308745538.0</td>\n",
       "      <td>72.4</td>\n",
       "      <td>12.6</td>\n",
       "      <td>0.9</td>\n",
       "      <td>4.8</td>\n",
       "      <td>6.2</td>\n",
       "      <td>16.3</td>\n",
       "    </tr>\n",
       "    <tr>\n",
       "      <th>1</th>\n",
       "      <td>AK</td>\n",
       "      <td>4779736.0</td>\n",
       "      <td>68.5</td>\n",
       "      <td>26.2</td>\n",
       "      <td>0.6</td>\n",
       "      <td>1.1</td>\n",
       "      <td>2.0</td>\n",
       "      <td>3.9</td>\n",
       "    </tr>\n",
       "    <tr>\n",
       "      <th>2</th>\n",
       "      <td>AZ</td>\n",
       "      <td>710231.0</td>\n",
       "      <td>66.7</td>\n",
       "      <td>3.3</td>\n",
       "      <td>14.8</td>\n",
       "      <td>5.4</td>\n",
       "      <td>1.6</td>\n",
       "      <td>5.5</td>\n",
       "    </tr>\n",
       "    <tr>\n",
       "      <th>3</th>\n",
       "      <td>AR</td>\n",
       "      <td>6392017.0</td>\n",
       "      <td>73.0</td>\n",
       "      <td>4.1</td>\n",
       "      <td>4.6</td>\n",
       "      <td>2.8</td>\n",
       "      <td>11.9</td>\n",
       "      <td>29.6</td>\n",
       "    </tr>\n",
       "    <tr>\n",
       "      <th>4</th>\n",
       "      <td>CA</td>\n",
       "      <td>2915918.0</td>\n",
       "      <td>77.0</td>\n",
       "      <td>15.4</td>\n",
       "      <td>0.8</td>\n",
       "      <td>1.2</td>\n",
       "      <td>3.4</td>\n",
       "      <td>6.4</td>\n",
       "    </tr>\n",
       "  </tbody>\n",
       "</table>\n",
       "</div>"
      ],
      "text/plain": [
       "  STATE          POP     W     B     N    A     O     H\n",
       "0    AL  308745538.0  72.4  12.6   0.9  4.8   6.2  16.3\n",
       "1    AK    4779736.0  68.5  26.2   0.6  1.1   2.0   3.9\n",
       "2    AZ     710231.0  66.7   3.3  14.8  5.4   1.6   5.5\n",
       "3    AR    6392017.0  73.0   4.1   4.6  2.8  11.9  29.6\n",
       "4    CA    2915918.0  77.0  15.4   0.8  1.2   3.4   6.4"
      ]
     },
     "execution_count": 12,
     "metadata": {},
     "output_type": "execute_result"
    }
   ],
   "source": [
    "census_state_race.head()"
   ]
  },
  {
   "cell_type": "code",
   "execution_count": 51,
   "metadata": {},
   "outputs": [],
   "source": [
    "census_state_race = census_state_race.groupby(census_state_race['STATE']).mean()"
   ]
  },
  {
   "cell_type": "markdown",
   "metadata": {},
   "source": [
    "# Cleaning Police Data"
   ]
  },
  {
   "cell_type": "code",
   "execution_count": 169,
   "metadata": {},
   "outputs": [],
   "source": [
    "wp_pol = pd.read_csv('./data/clean/wp-police.csv')"
   ]
  },
  {
   "cell_type": "code",
   "execution_count": 179,
   "metadata": {},
   "outputs": [],
   "source": [
    " wp_pol=wp_pol.rename(columns = {'state':'STATE'})"
   ]
  },
  {
   "cell_type": "code",
   "execution_count": 181,
   "metadata": {},
   "outputs": [],
   "source": [
    "wp_pol_dems = pd.merge(wp_pol, census_state_race, on=['STATE'])"
   ]
  },
  {
   "cell_type": "code",
   "execution_count": 182,
   "metadata": {},
   "outputs": [],
   "source": [
    "dates = wp_raw['date']"
   ]
  },
  {
   "cell_type": "code",
   "execution_count": 183,
   "metadata": {},
   "outputs": [],
   "source": [
    "wp_pol_dems = wp_pol_dems.assign(dates=dates.values)"
   ]
  },
  {
   "cell_type": "code",
   "execution_count": 187,
   "metadata": {},
   "outputs": [],
   "source": [
    "wp_pol_dems.set_index(['STATE', 'POP', 'W', 'B', 'N', 'A', 'O', 'H', 'dates'], inplace=True)"
   ]
  },
  {
   "cell_type": "code",
   "execution_count": 188,
   "metadata": {},
   "outputs": [],
   "source": [
    "wp_pol_dems.sort_index(inplace=True)"
   ]
  },
  {
   "cell_type": "code",
   "execution_count": 192,
   "metadata": {},
   "outputs": [],
   "source": [
    "wp_pol_dems.to_csv('./data/clean/main_wp.csv')"
   ]
  },
  {
   "cell_type": "code",
   "execution_count": 193,
   "metadata": {},
   "outputs": [],
   "source": [
    "maind = pd.read_csv('./data/clean/main_wp.csv')"
   ]
  },
  {
   "cell_type": "code",
   "execution_count": 195,
   "metadata": {},
   "outputs": [
    {
     "data": {
      "text/html": [
       "<div>\n",
       "<style scoped>\n",
       "    .dataframe tbody tr th:only-of-type {\n",
       "        vertical-align: middle;\n",
       "    }\n",
       "\n",
       "    .dataframe tbody tr th {\n",
       "        vertical-align: top;\n",
       "    }\n",
       "\n",
       "    .dataframe thead th {\n",
       "        text-align: right;\n",
       "    }\n",
       "</style>\n",
       "<table border=\"1\" class=\"dataframe\">\n",
       "  <thead>\n",
       "    <tr style=\"text-align: right;\">\n",
       "      <th></th>\n",
       "      <th>STATE</th>\n",
       "      <th>POP</th>\n",
       "      <th>W</th>\n",
       "      <th>B</th>\n",
       "      <th>N</th>\n",
       "      <th>A</th>\n",
       "      <th>O</th>\n",
       "      <th>H</th>\n",
       "      <th>dates</th>\n",
       "      <th>id</th>\n",
       "      <th>...</th>\n",
       "      <th>manner_of_death</th>\n",
       "      <th>armed</th>\n",
       "      <th>age</th>\n",
       "      <th>gender</th>\n",
       "      <th>race</th>\n",
       "      <th>city</th>\n",
       "      <th>signs_of_mental_illness</th>\n",
       "      <th>threat_level</th>\n",
       "      <th>flee</th>\n",
       "      <th>body_camera</th>\n",
       "    </tr>\n",
       "  </thead>\n",
       "  <tbody>\n",
       "    <tr>\n",
       "      <th>0</th>\n",
       "      <td>AK</td>\n",
       "      <td>4779736.0</td>\n",
       "      <td>68.5</td>\n",
       "      <td>26.2</td>\n",
       "      <td>0.6</td>\n",
       "      <td>1.1</td>\n",
       "      <td>2.0</td>\n",
       "      <td>3.9</td>\n",
       "      <td>02/01/15</td>\n",
       "      <td>3</td>\n",
       "      <td>...</td>\n",
       "      <td>shot</td>\n",
       "      <td>gun</td>\n",
       "      <td>53.0</td>\n",
       "      <td>M</td>\n",
       "      <td>A</td>\n",
       "      <td>Shelton</td>\n",
       "      <td>True</td>\n",
       "      <td>attack</td>\n",
       "      <td>Not fleeing</td>\n",
       "      <td>False</td>\n",
       "    </tr>\n",
       "    <tr>\n",
       "      <th>1</th>\n",
       "      <td>AK</td>\n",
       "      <td>4779736.0</td>\n",
       "      <td>68.5</td>\n",
       "      <td>26.2</td>\n",
       "      <td>0.6</td>\n",
       "      <td>1.1</td>\n",
       "      <td>2.0</td>\n",
       "      <td>3.9</td>\n",
       "      <td>02/01/15</td>\n",
       "      <td>4</td>\n",
       "      <td>...</td>\n",
       "      <td>shot</td>\n",
       "      <td>gun</td>\n",
       "      <td>47.0</td>\n",
       "      <td>M</td>\n",
       "      <td>W</td>\n",
       "      <td>Aloha</td>\n",
       "      <td>False</td>\n",
       "      <td>attack</td>\n",
       "      <td>Not fleeing</td>\n",
       "      <td>False</td>\n",
       "    </tr>\n",
       "    <tr>\n",
       "      <th>2</th>\n",
       "      <td>AK</td>\n",
       "      <td>4779736.0</td>\n",
       "      <td>68.5</td>\n",
       "      <td>26.2</td>\n",
       "      <td>0.6</td>\n",
       "      <td>1.1</td>\n",
       "      <td>2.0</td>\n",
       "      <td>3.9</td>\n",
       "      <td>03/01/15</td>\n",
       "      <td>5</td>\n",
       "      <td>...</td>\n",
       "      <td>shot and Tasered</td>\n",
       "      <td>unarmed</td>\n",
       "      <td>23.0</td>\n",
       "      <td>M</td>\n",
       "      <td>H</td>\n",
       "      <td>Wichita</td>\n",
       "      <td>False</td>\n",
       "      <td>other</td>\n",
       "      <td>Not fleeing</td>\n",
       "      <td>False</td>\n",
       "    </tr>\n",
       "    <tr>\n",
       "      <th>3</th>\n",
       "      <td>AK</td>\n",
       "      <td>4779736.0</td>\n",
       "      <td>68.5</td>\n",
       "      <td>26.2</td>\n",
       "      <td>0.6</td>\n",
       "      <td>1.1</td>\n",
       "      <td>2.0</td>\n",
       "      <td>3.9</td>\n",
       "      <td>04/01/15</td>\n",
       "      <td>8</td>\n",
       "      <td>...</td>\n",
       "      <td>shot</td>\n",
       "      <td>toy weapon</td>\n",
       "      <td>32.0</td>\n",
       "      <td>M</td>\n",
       "      <td>W</td>\n",
       "      <td>San Francisco</td>\n",
       "      <td>True</td>\n",
       "      <td>attack</td>\n",
       "      <td>Not fleeing</td>\n",
       "      <td>False</td>\n",
       "    </tr>\n",
       "    <tr>\n",
       "      <th>4</th>\n",
       "      <td>AK</td>\n",
       "      <td>4779736.0</td>\n",
       "      <td>68.5</td>\n",
       "      <td>26.2</td>\n",
       "      <td>0.6</td>\n",
       "      <td>1.1</td>\n",
       "      <td>2.0</td>\n",
       "      <td>3.9</td>\n",
       "      <td>04/01/15</td>\n",
       "      <td>9</td>\n",
       "      <td>...</td>\n",
       "      <td>shot</td>\n",
       "      <td>nail gun</td>\n",
       "      <td>39.0</td>\n",
       "      <td>M</td>\n",
       "      <td>H</td>\n",
       "      <td>Evans</td>\n",
       "      <td>False</td>\n",
       "      <td>attack</td>\n",
       "      <td>Not fleeing</td>\n",
       "      <td>False</td>\n",
       "    </tr>\n",
       "  </tbody>\n",
       "</table>\n",
       "<p>5 rows × 22 columns</p>\n",
       "</div>"
      ],
      "text/plain": [
       "  STATE        POP     W     B    N    A    O    H     dates  id     ...      \\\n",
       "0    AK  4779736.0  68.5  26.2  0.6  1.1  2.0  3.9  02/01/15   3     ...       \n",
       "1    AK  4779736.0  68.5  26.2  0.6  1.1  2.0  3.9  02/01/15   4     ...       \n",
       "2    AK  4779736.0  68.5  26.2  0.6  1.1  2.0  3.9  03/01/15   5     ...       \n",
       "3    AK  4779736.0  68.5  26.2  0.6  1.1  2.0  3.9  04/01/15   8     ...       \n",
       "4    AK  4779736.0  68.5  26.2  0.6  1.1  2.0  3.9  04/01/15   9     ...       \n",
       "\n",
       "    manner_of_death       armed   age gender  race           city  \\\n",
       "0              shot         gun  53.0      M     A        Shelton   \n",
       "1              shot         gun  47.0      M     W          Aloha   \n",
       "2  shot and Tasered     unarmed  23.0      M     H        Wichita   \n",
       "3              shot  toy weapon  32.0      M     W  San Francisco   \n",
       "4              shot    nail gun  39.0      M     H          Evans   \n",
       "\n",
       "  signs_of_mental_illness threat_level         flee body_camera  \n",
       "0                    True       attack  Not fleeing       False  \n",
       "1                   False       attack  Not fleeing       False  \n",
       "2                   False        other  Not fleeing       False  \n",
       "3                    True       attack  Not fleeing       False  \n",
       "4                   False       attack  Not fleeing       False  \n",
       "\n",
       "[5 rows x 22 columns]"
      ]
     },
     "execution_count": 195,
     "metadata": {},
     "output_type": "execute_result"
    }
   ],
   "source": [
    "maind.head(5)"
   ]
  }
 ],
 "metadata": {
  "hide_code_all_hidden": false,
  "kernelspec": {
   "display_name": "Python 3",
   "language": "python",
   "name": "python3"
  },
  "language_info": {
   "codemirror_mode": {
    "name": "ipython",
    "version": 3
   },
   "file_extension": ".py",
   "mimetype": "text/x-python",
   "name": "python",
   "nbconvert_exporter": "python",
   "pygments_lexer": "ipython3",
   "version": "3.7.1"
  }
 },
 "nbformat": 4,
 "nbformat_minor": 2
}
